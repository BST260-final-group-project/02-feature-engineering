{
 "cells": [
  {
   "cell_type": "code",
   "execution_count": 58,
   "metadata": {
    "collapsed": true
   },
   "outputs": [],
   "source": [
    "import pandas as pd\n",
    "import numpy as np"
   ]
  },
  {
   "cell_type": "code",
   "execution_count": 59,
   "metadata": {
    "collapsed": true
   },
   "outputs": [],
   "source": [
    "df_data = pd.read_csv(\"train_and_test.csv\")"
   ]
  },
  {
   "cell_type": "code",
   "execution_count": 60,
   "metadata": {
    "collapsed": false
   },
   "outputs": [],
   "source": [
    "df_Id = df_data['Id']\n",
    "df_data = df_data.drop('Id', axis = 1)\n",
    "df_source = df_data['source']\n",
    "df_data = df_data.drop('source', axis = 1)\n",
    "df_price = df_data['SalePrice']\n",
    "df_data = df_data.drop('SalePrice', axis = 1)"
   ]
  },
  {
   "cell_type": "code",
   "execution_count": 61,
   "metadata": {
    "collapsed": false
   },
   "outputs": [],
   "source": [
    "# Jiajing Chen\n",
    "df_JJC = pd.DataFrame()\n",
    "df_JJC['Id'] = df_Id\n",
    "df_JJC['source'] = df_source\n",
    "df_JJC['SalePrice'] = df_price\n",
    "df_JJC = df_JJC.join(df_data[df_data.columns.values[:20]])"
   ]
  },
  {
   "cell_type": "code",
   "execution_count": 62,
   "metadata": {
    "collapsed": true
   },
   "outputs": [],
   "source": [
    "df_JJC.to_csv('feature_JJC.csv', index=False)"
   ]
  },
  {
   "cell_type": "code",
   "execution_count": 63,
   "metadata": {
    "collapsed": false
   },
   "outputs": [],
   "source": [
    "# Kang Jian\n",
    "df_KJ = pd.DataFrame()\n",
    "df_KJ['Id'] = df_Id\n",
    "df_KJ['source'] = df_source\n",
    "df_KJ['SalePrice'] = df_price\n",
    "df_KJ = df_KJ.join(df_data[df_data.columns.values[20:40]])"
   ]
  },
  {
   "cell_type": "code",
   "execution_count": 64,
   "metadata": {
    "collapsed": true
   },
   "outputs": [],
   "source": [
    "df_KJ.to_csv('feature_KJ.csv', index=False)"
   ]
  },
  {
   "cell_type": "code",
   "execution_count": 65,
   "metadata": {
    "collapsed": true
   },
   "outputs": [],
   "source": [
    "# Chi Zhang\n",
    "df_CZ = pd.DataFrame()\n",
    "df_CZ['Id'] = df_Id\n",
    "df_CZ['source'] = df_source\n",
    "df_CZ['SalePrice'] = df_price\n",
    "df_CZ = df_CZ.join(df_data[df_data.columns.values[40:60]])"
   ]
  },
  {
   "cell_type": "code",
   "execution_count": 66,
   "metadata": {
    "collapsed": true
   },
   "outputs": [],
   "source": [
    "df_CZ.to_csv('feature_CZ.csv', index=False)"
   ]
  },
  {
   "cell_type": "code",
   "execution_count": 72,
   "metadata": {
    "collapsed": true
   },
   "outputs": [],
   "source": [
    "# Hanyu Jiang\n",
    "df_HYJ = pd.DataFrame()\n",
    "df_HYJ['Id'] = df_Id\n",
    "df_HYJ['source'] = df_source\n",
    "df_HYJ['SalePrice'] = df_price\n",
    "df_HYJ = df_HYJ.join(df_data[df_data.columns.values[60:]])"
   ]
  },
  {
   "cell_type": "code",
   "execution_count": 73,
   "metadata": {
    "collapsed": true
   },
   "outputs": [],
   "source": [
    "df_HYJ.to_csv('feature_HYJ.csv', index=False)"
   ]
  }
 ],
 "metadata": {
  "kernelspec": {
   "display_name": "Python 2",
   "language": "python",
   "name": "python2"
  },
  "language_info": {
   "codemirror_mode": {
    "name": "ipython",
    "version": 2
   },
   "file_extension": ".py",
   "mimetype": "text/x-python",
   "name": "python",
   "nbconvert_exporter": "python",
   "pygments_lexer": "ipython2",
   "version": "2.7.13"
  }
 },
 "nbformat": 4,
 "nbformat_minor": 2
}
